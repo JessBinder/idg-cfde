{
 "cells": [
  {
   "cell_type": "markdown",
   "metadata": {
    "colab_type": "text",
    "id": "bGoESH5cRZQy"
   },
   "source": [
    "<img align=\"right\" src=\"https://druggablegenome.net/IDG_Images_Index/IDGLOGO.png\" width=\"400\">\n",
    "\n",
    "# TCRD Introduction\n",
    "\n",
    "* http://juniper.health.unm.edu/tcrd/\n",
    "* http://juniper.health.unm.edu/tcrd/api.html\n",
    "* https://pharos.nih.gov/idg/api"
   ]
  },
  {
   "cell_type": "markdown",
   "metadata": {
    "colab_type": "text",
    "id": "7brPTQzLgyw7"
   },
   "source": [
    "### Imports and installs"
   ]
  },
  {
   "cell_type": "code",
   "execution_count": 2,
   "metadata": {
    "colab": {
     "base_uri": "https://localhost:8080/",
     "height": 173
    },
    "colab_type": "code",
    "id": "A7bXRlm3RT0f",
    "outputId": "7212ddc4-667d-4d7e-8977-d85c5fbfe759"
   },
   "outputs": [
    {
     "name": "stdout",
     "output_type": "stream",
     "text": [
      "Requirement already satisfied: mysql-connector-python in /home2/app/anaconda3/lib/python3.7/site-packages (8.0.26)\r\n",
      "Requirement already satisfied: protobuf>=3.0.0 in /home2/app/anaconda3/lib/python3.7/site-packages (from mysql-connector-python) (3.17.3)\r\n",
      "Requirement already satisfied: six>=1.9 in /home2/app/anaconda3/lib/python3.7/site-packages (from protobuf>=3.0.0->mysql-connector-python) (1.12.0)\r\n"
     ]
    }
   ],
   "source": [
    "import sys, json, urllib.request\n",
    "import pandas as pd\n",
    "import matplotlib.pyplot\n",
    "import altair #Ok for Colaboratory, not GitHub\n",
    "!pip install mysql-connector-python\n",
    "import mysql.connector as mysql\n"
   ]
  },
  {
   "cell_type": "markdown",
   "metadata": {
    "colab_type": "text",
    "id": "inGLo7mrCYmM"
   },
   "source": [
    "### DB Specs"
   ]
  },
  {
   "cell_type": "code",
   "execution_count": 3,
   "metadata": {
    "colab": {},
    "colab_type": "code",
    "id": "ruCg_kalCOCM"
   },
   "outputs": [],
   "source": [
    "DBHOST = \"tcrd.kmc.io\"\n",
    "DBNAME = \"tcrd6110\"\n",
    "DBUSR = \"tcrd\""
   ]
  },
  {
   "cell_type": "markdown",
   "metadata": {
    "colab_type": "text",
    "id": "RwQmgiFRCWKk"
   },
   "source": [
    "### Connect"
   ]
  },
  {
   "cell_type": "code",
   "execution_count": 4,
   "metadata": {
    "colab": {},
    "colab_type": "code",
    "id": "xGkzEvN_CSMr"
   },
   "outputs": [],
   "source": [
    "dbcon = mysql.connect(host=DBHOST, db=DBNAME, user=DBUSR)"
   ]
  },
  {
   "cell_type": "markdown",
   "metadata": {
    "colab_type": "text",
    "id": "gESQaeo_DaDQ"
   },
   "source": [
    "### Db Info"
   ]
  },
  {
   "cell_type": "code",
   "execution_count": 8,
   "metadata": {
    "colab": {
     "base_uri": "https://localhost:8080/",
     "height": 119
    },
    "colab_type": "code",
    "id": "4MSpkuGPDcvP",
    "outputId": "d470f125-3af8-4cd3-dacb-bcb8b5016307"
   },
   "outputs": [
    {
     "data": {
      "text/html": [
       "<div>\n",
       "<style scoped>\n",
       "    .dataframe tbody tr th:only-of-type {\n",
       "        vertical-align: middle;\n",
       "    }\n",
       "\n",
       "    .dataframe tbody tr th {\n",
       "        vertical-align: top;\n",
       "    }\n",
       "\n",
       "    .dataframe thead th {\n",
       "        text-align: right;\n",
       "    }\n",
       "</style>\n",
       "<table border=\"1\" class=\"dataframe\">\n",
       "  <thead>\n",
       "    <tr style=\"text-align: right;\">\n",
       "      <th></th>\n",
       "      <th>dbname</th>\n",
       "      <th>schema_ver</th>\n",
       "      <th>data_ver</th>\n",
       "      <th>owner</th>\n",
       "      <th>is_copy</th>\n",
       "      <th>dump_file</th>\n",
       "    </tr>\n",
       "  </thead>\n",
       "  <tbody>\n",
       "    <tr>\n",
       "      <td>0</td>\n",
       "      <td>tcrd</td>\n",
       "      <td>6.6.2</td>\n",
       "      <td>6.11.0</td>\n",
       "      <td>smathias</td>\n",
       "      <td>0</td>\n",
       "      <td>None</td>\n",
       "    </tr>\n",
       "  </tbody>\n",
       "</table>\n",
       "</div>"
      ],
      "text/plain": [
       "  dbname schema_ver data_ver     owner  is_copy dump_file\n",
       "0   tcrd      6.6.2   6.11.0  smathias        0      None"
      ]
     },
     "execution_count": 8,
     "metadata": {},
     "output_type": "execute_result"
    }
   ],
   "source": [
    "pd.read_sql(\"SELECT * FROM dbinfo\", dbcon)"
   ]
  },
  {
   "cell_type": "markdown",
   "metadata": {
    "colab_type": "text",
    "id": "RzefXToOfsJX"
   },
   "source": [
    "### List tables:"
   ]
  },
  {
   "cell_type": "code",
   "execution_count": 9,
   "metadata": {
    "colab": {
     "base_uri": "https://localhost:8080/",
     "height": 986
    },
    "colab_type": "code",
    "id": "ytJFr1o0SWw6",
    "outputId": "06370920-0b8d-4df7-d9c7-99f6c1d70bfc"
   },
   "outputs": [
    {
     "data": {
      "text/html": [
       "<div>\n",
       "<style scoped>\n",
       "    .dataframe tbody tr th:only-of-type {\n",
       "        vertical-align: middle;\n",
       "    }\n",
       "\n",
       "    .dataframe tbody tr th {\n",
       "        vertical-align: top;\n",
       "    }\n",
       "\n",
       "    .dataframe thead th {\n",
       "        text-align: right;\n",
       "    }\n",
       "</style>\n",
       "<table border=\"1\" class=\"dataframe\">\n",
       "  <thead>\n",
       "    <tr style=\"text-align: right;\">\n",
       "      <th></th>\n",
       "      <th>Tables_in_tcrd6110</th>\n",
       "    </tr>\n",
       "  </thead>\n",
       "  <tbody>\n",
       "    <tr>\n",
       "      <td>0</td>\n",
       "      <td>TCRDv6.11v3_merged</td>\n",
       "    </tr>\n",
       "    <tr>\n",
       "      <td>1</td>\n",
       "      <td>affiliate</td>\n",
       "    </tr>\n",
       "    <tr>\n",
       "      <td>2</td>\n",
       "      <td>alias</td>\n",
       "    </tr>\n",
       "    <tr>\n",
       "      <td>3</td>\n",
       "      <td>clinvar</td>\n",
       "    </tr>\n",
       "    <tr>\n",
       "      <td>4</td>\n",
       "      <td>clinvar_phenotype</td>\n",
       "    </tr>\n",
       "    <tr>\n",
       "      <td>...</td>\n",
       "      <td>...</td>\n",
       "    </tr>\n",
       "    <tr>\n",
       "      <td>110</td>\n",
       "      <td>viral_ppi</td>\n",
       "    </tr>\n",
       "    <tr>\n",
       "      <td>111</td>\n",
       "      <td>viral_protein</td>\n",
       "    </tr>\n",
       "    <tr>\n",
       "      <td>112</td>\n",
       "      <td>virus</td>\n",
       "    </tr>\n",
       "    <tr>\n",
       "      <td>113</td>\n",
       "      <td>xref</td>\n",
       "    </tr>\n",
       "    <tr>\n",
       "      <td>114</td>\n",
       "      <td>xref_type</td>\n",
       "    </tr>\n",
       "  </tbody>\n",
       "</table>\n",
       "<p>115 rows × 1 columns</p>\n",
       "</div>"
      ],
      "text/plain": [
       "     Tables_in_tcrd6110\n",
       "0    TCRDv6.11v3_merged\n",
       "1             affiliate\n",
       "2                 alias\n",
       "3               clinvar\n",
       "4     clinvar_phenotype\n",
       "..                  ...\n",
       "110           viral_ppi\n",
       "111       viral_protein\n",
       "112               virus\n",
       "113                xref\n",
       "114           xref_type\n",
       "\n",
       "[115 rows x 1 columns]"
      ]
     },
     "execution_count": 9,
     "metadata": {},
     "output_type": "execute_result"
    }
   ],
   "source": [
    "pd.read_sql(\"SHOW TABLES\", dbcon)"
   ]
  },
  {
   "cell_type": "markdown",
   "metadata": {
    "colab_type": "text",
    "id": "3R7lnqFLD-Rz"
   },
   "source": [
    "### Fetch targets"
   ]
  },
  {
   "cell_type": "code",
   "execution_count": 10,
   "metadata": {
    "colab": {
     "base_uri": "https://localhost:8080/",
     "height": 513
    },
    "colab_type": "code",
    "id": "wF9AVMEsEBiY",
    "outputId": "6d5bb796-503a-4c05-f709-f7c90e68b9b4"
   },
   "outputs": [
    {
     "data": {
      "text/html": [
       "<div>\n",
       "<style scoped>\n",
       "    .dataframe tbody tr th:only-of-type {\n",
       "        vertical-align: middle;\n",
       "    }\n",
       "\n",
       "    .dataframe tbody tr th {\n",
       "        vertical-align: top;\n",
       "    }\n",
       "\n",
       "    .dataframe thead th {\n",
       "        text-align: right;\n",
       "    }\n",
       "</style>\n",
       "<table border=\"1\" class=\"dataframe\">\n",
       "  <thead>\n",
       "    <tr style=\"text-align: right;\">\n",
       "      <th></th>\n",
       "      <th>tcrdTargetId</th>\n",
       "      <th>tcrdTargetName</th>\n",
       "      <th>tcrdTargetFamily</th>\n",
       "      <th>TDL</th>\n",
       "      <th>tcrdTargetType</th>\n",
       "      <th>idgList</th>\n",
       "      <th>tcrdProteinId</th>\n",
       "      <th>tcrdGeneSymbol</th>\n",
       "      <th>tcrdProteinFamily</th>\n",
       "      <th>ncbiGeneId</th>\n",
       "      <th>uniprotId</th>\n",
       "      <th>uniprotVersion</th>\n",
       "      <th>chr</th>\n",
       "      <th>tcrdProteinDescription</th>\n",
       "      <th>dtoId</th>\n",
       "      <th>dtoClass</th>\n",
       "      <th>ensemblProteinId</th>\n",
       "    </tr>\n",
       "  </thead>\n",
       "  <tbody>\n",
       "    <tr>\n",
       "      <td>0</td>\n",
       "      <td>1</td>\n",
       "      <td>Cystathionine gamma-lyase</td>\n",
       "      <td>Enzyme</td>\n",
       "      <td>Tchem</td>\n",
       "      <td>Single Protein</td>\n",
       "      <td>0</td>\n",
       "      <td>1</td>\n",
       "      <td>CTH</td>\n",
       "      <td>Belongs to the trans-sulfuration enzymes family.</td>\n",
       "      <td>1491.0</td>\n",
       "      <td>P32929</td>\n",
       "      <td>3</td>\n",
       "      <td>None</td>\n",
       "      <td>Cystathionine gamma-lyase</td>\n",
       "      <td>DTO_05004572</td>\n",
       "      <td>Lyase</td>\n",
       "      <td>ENSP00000359976</td>\n",
       "    </tr>\n",
       "    <tr>\n",
       "      <td>1</td>\n",
       "      <td>2</td>\n",
       "      <td>Uncharacterized protein C7orf77</td>\n",
       "      <td>None</td>\n",
       "      <td>Tdark</td>\n",
       "      <td>Single Protein</td>\n",
       "      <td>0</td>\n",
       "      <td>2</td>\n",
       "      <td>C7orf77</td>\n",
       "      <td>None</td>\n",
       "      <td>154872.0</td>\n",
       "      <td>A4D0Y5</td>\n",
       "      <td>1</td>\n",
       "      <td>None</td>\n",
       "      <td>Uncharacterized protein C7orf77</td>\n",
       "      <td>None</td>\n",
       "      <td>None</td>\n",
       "      <td>ENSP00000480627</td>\n",
       "    </tr>\n",
       "    <tr>\n",
       "      <td>2</td>\n",
       "      <td>3</td>\n",
       "      <td>Uncharacterized protein C8orf34</td>\n",
       "      <td>None</td>\n",
       "      <td>Tdark</td>\n",
       "      <td>Single Protein</td>\n",
       "      <td>0</td>\n",
       "      <td>3</td>\n",
       "      <td>C8orf34</td>\n",
       "      <td>None</td>\n",
       "      <td>116328.0</td>\n",
       "      <td>Q49A92</td>\n",
       "      <td>3</td>\n",
       "      <td>None</td>\n",
       "      <td>Uncharacterized protein C8orf34</td>\n",
       "      <td>None</td>\n",
       "      <td>None</td>\n",
       "      <td>ENSP00000427820</td>\n",
       "    </tr>\n",
       "    <tr>\n",
       "      <td>3</td>\n",
       "      <td>4</td>\n",
       "      <td>CGG triplet repeat-binding protein 1</td>\n",
       "      <td>None</td>\n",
       "      <td>Tbio</td>\n",
       "      <td>Single Protein</td>\n",
       "      <td>0</td>\n",
       "      <td>4</td>\n",
       "      <td>CGGBP1</td>\n",
       "      <td>None</td>\n",
       "      <td>8545.0</td>\n",
       "      <td>Q9UFW8</td>\n",
       "      <td>2</td>\n",
       "      <td>None</td>\n",
       "      <td>CGG triplet repeat-binding protein 1</td>\n",
       "      <td>None</td>\n",
       "      <td>None</td>\n",
       "      <td>ENSP00000381429</td>\n",
       "    </tr>\n",
       "    <tr>\n",
       "      <td>4</td>\n",
       "      <td>5</td>\n",
       "      <td>Uncharacterized protein C8orf76</td>\n",
       "      <td>None</td>\n",
       "      <td>Tdark</td>\n",
       "      <td>Single Protein</td>\n",
       "      <td>0</td>\n",
       "      <td>5</td>\n",
       "      <td>C8orf76</td>\n",
       "      <td>None</td>\n",
       "      <td>84933.0</td>\n",
       "      <td>Q96K31</td>\n",
       "      <td>1</td>\n",
       "      <td>None</td>\n",
       "      <td>Uncharacterized protein C8orf76</td>\n",
       "      <td>None</td>\n",
       "      <td>None</td>\n",
       "      <td>ENSP00000276704</td>\n",
       "    </tr>\n",
       "  </tbody>\n",
       "</table>\n",
       "</div>"
      ],
      "text/plain": [
       "   tcrdTargetId                        tcrdTargetName tcrdTargetFamily    TDL  \\\n",
       "0             1             Cystathionine gamma-lyase           Enzyme  Tchem   \n",
       "1             2       Uncharacterized protein C7orf77             None  Tdark   \n",
       "2             3       Uncharacterized protein C8orf34             None  Tdark   \n",
       "3             4  CGG triplet repeat-binding protein 1             None   Tbio   \n",
       "4             5       Uncharacterized protein C8orf76             None  Tdark   \n",
       "\n",
       "   tcrdTargetType  idgList  tcrdProteinId tcrdGeneSymbol  \\\n",
       "0  Single Protein        0              1            CTH   \n",
       "1  Single Protein        0              2        C7orf77   \n",
       "2  Single Protein        0              3        C8orf34   \n",
       "3  Single Protein        0              4         CGGBP1   \n",
       "4  Single Protein        0              5        C8orf76   \n",
       "\n",
       "                                  tcrdProteinFamily  ncbiGeneId uniprotId  \\\n",
       "0  Belongs to the trans-sulfuration enzymes family.      1491.0    P32929   \n",
       "1                                              None    154872.0    A4D0Y5   \n",
       "2                                              None    116328.0    Q49A92   \n",
       "3                                              None      8545.0    Q9UFW8   \n",
       "4                                              None     84933.0    Q96K31   \n",
       "\n",
       "   uniprotVersion   chr                tcrdProteinDescription         dtoId  \\\n",
       "0               3  None             Cystathionine gamma-lyase  DTO_05004572   \n",
       "1               1  None       Uncharacterized protein C7orf77          None   \n",
       "2               3  None       Uncharacterized protein C8orf34          None   \n",
       "3               2  None  CGG triplet repeat-binding protein 1          None   \n",
       "4               1  None       Uncharacterized protein C8orf76          None   \n",
       "\n",
       "  dtoClass ensemblProteinId  \n",
       "0    Lyase  ENSP00000359976  \n",
       "1     None  ENSP00000480627  \n",
       "2     None  ENSP00000427820  \n",
       "3     None  ENSP00000381429  \n",
       "4     None  ENSP00000276704  "
      ]
     },
     "execution_count": 10,
     "metadata": {},
     "output_type": "execute_result"
    }
   ],
   "source": [
    "sql='''\n",
    "SELECT\n",
    "\ttarget.id tcrdTargetId,\n",
    "\ttarget.name tcrdTargetName,\n",
    "\ttarget.fam tcrdTargetFamily,\n",
    "\ttarget.tdl TDL,\n",
    "\ttarget.ttype tcrdTargetType,\n",
    "\ttarget.idg idgList,\n",
    "\tprotein.id tcrdProteinId,\n",
    "\tprotein.sym tcrdGeneSymbol,\n",
    "\tprotein.family tcrdProteinFamily,\n",
    "\tprotein.geneid ncbiGeneId,\n",
    "\tprotein.uniprot uniprotId,\n",
    "\tprotein.up_version uniprotVersion,\n",
    "\tprotein.chr,\n",
    "\tprotein.description tcrdProteinDescription,\n",
    "\tprotein.dtoid dtoId,\n",
    "\tprotein.dtoclass dtoClass,\n",
    "\tprotein.stringid ensemblProteinId\n",
    "FROM\n",
    "        target\n",
    "JOIN\n",
    "  t2tc ON t2tc.target_id = target.id\n",
    "JOIN\n",
    "  protein ON protein.id = t2tc.protein_id\n",
    "'''\n",
    "\n",
    "tgts = pd.read_sql(sql, dbcon)\n",
    "tgts.head()"
   ]
  },
  {
   "cell_type": "code",
   "execution_count": null,
   "metadata": {},
   "outputs": [],
   "source": []
  }
 ],
 "metadata": {
  "colab": {
   "name": "TCRD_Intro.ipynb",
   "provenance": [],
   "version": "0.3.2"
  },
  "kernelspec": {
   "display_name": "Python 3",
   "language": "python",
   "name": "python3"
  },
  "language_info": {
   "codemirror_mode": {
    "name": "ipython",
    "version": 3
   },
   "file_extension": ".py",
   "mimetype": "text/x-python",
   "name": "python",
   "nbconvert_exporter": "python",
   "pygments_lexer": "ipython3",
   "version": "3.7.4"
  }
 },
 "nbformat": 4,
 "nbformat_minor": 1
}

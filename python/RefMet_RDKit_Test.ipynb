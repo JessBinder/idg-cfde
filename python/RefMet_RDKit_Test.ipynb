{
 "cells": [
  {
   "cell_type": "markdown",
   "metadata": {},
   "source": [
    "<img align=\"right\" src=\"https://www.nih-cfde.org/wp-content/uploads/2020/11/CFDE_logo-color-web.png\" width=\"100\">\n",
    "\n",
    "<img align=\"right\" src=\"https://druggablegenome.net/IDG_Images_Index/IDGLOGO.png\" width=\"300\">\n",
    "\n",
    "\n",
    "# CFDE-IDG RefMet Cheminfo Test\n",
    "\n",
    "* https://www.nih-cfde.org/\n",
    "* https://www.metabolomicsworkbench.org/databases/refmet/index.php\n",
    "* http://druggablegenome.net"
   ]
  },
  {
   "cell_type": "markdown",
   "metadata": {},
   "source": [
    "## Imports"
   ]
  },
  {
   "cell_type": "code",
   "execution_count": 1,
   "metadata": {},
   "outputs": [],
   "source": [
    "import sys,os,io,pandas,base64,requests,urllib.request\n",
    "import pandas as pd\n",
    "from IPython.display import Image\n",
    "from IPython.display import SVG\n",
    "from IPython.core.display import display, HTML\n",
    "import psycopg2,psycopg2.extras\n",
    "from rdkit import Chem\n",
    "from rdkit.Chem import Draw\n",
    "from rdkit.Chem import rdDepictor\n",
    "from rdkit.Chem.Draw import rdMolDraw2D"
   ]
  },
  {
   "cell_type": "markdown",
   "metadata": {},
   "source": [
    "## DB credentials"
   ]
  },
  {
   "cell_type": "code",
   "execution_count": 2,
   "metadata": {},
   "outputs": [],
   "source": [
    "DBHOST = \"localhost\"\n",
    "DBPORT = 5432\n",
    "DBNAME = \"refmet\"\n",
    "DBUSR = \"www\"\n",
    "DBPW = \"foobar\""
   ]
  },
  {
   "cell_type": "code",
   "execution_count": 3,
   "metadata": {},
   "outputs": [],
   "source": [
    "dsn = (f\"host='{DBHOST}' port='{DBPORT}' dbname='{DBNAME}' user='{DBUSR}' password='{DBPW}'\")\n",
    "dbcon = psycopg2.connect(dsn)\n",
    "dbcon.cursor_factory = psycopg2.extras.DictCursor"
   ]
  },
  {
   "cell_type": "code",
   "execution_count": 4,
   "metadata": {},
   "outputs": [
    {
     "data": {
      "text/html": [
       "<div>\n",
       "<style scoped>\n",
       "    .dataframe tbody tr th:only-of-type {\n",
       "        vertical-align: middle;\n",
       "    }\n",
       "\n",
       "    .dataframe tbody tr th {\n",
       "        vertical-align: top;\n",
       "    }\n",
       "\n",
       "    .dataframe thead th {\n",
       "        text-align: right;\n",
       "    }\n",
       "</style>\n",
       "<table border=\"1\" class=\"dataframe\">\n",
       "  <thead>\n",
       "    <tr style=\"text-align: right;\">\n",
       "      <th></th>\n",
       "      <th>count</th>\n",
       "    </tr>\n",
       "  </thead>\n",
       "  <tbody>\n",
       "    <tr>\n",
       "      <td>0</td>\n",
       "      <td>154677</td>\n",
       "    </tr>\n",
       "  </tbody>\n",
       "</table>\n",
       "</div>"
      ],
      "text/plain": [
       "    count\n",
       "0  154677"
      ]
     },
     "execution_count": 4,
     "metadata": {},
     "output_type": "execute_result"
    }
   ],
   "source": [
    "pd.read_sql(\"SELECT COUNT(*) FROM main\", dbcon)\n"
   ]
  },
  {
   "cell_type": "code",
   "execution_count": 5,
   "metadata": {},
   "outputs": [
    {
     "data": {
      "text/html": [
       "<div>\n",
       "<style scoped>\n",
       "    .dataframe tbody tr th:only-of-type {\n",
       "        vertical-align: middle;\n",
       "    }\n",
       "\n",
       "    .dataframe tbody tr th {\n",
       "        vertical-align: top;\n",
       "    }\n",
       "\n",
       "    .dataframe thead th {\n",
       "        text-align: right;\n",
       "    }\n",
       "</style>\n",
       "<table border=\"1\" class=\"dataframe\">\n",
       "  <thead>\n",
       "    <tr style=\"text-align: right;\">\n",
       "      <th></th>\n",
       "      <th>sim</th>\n",
       "      <th>pubchem_cid</th>\n",
       "      <th>refmet_name</th>\n",
       "      <th>smiles</th>\n",
       "    </tr>\n",
       "  </thead>\n",
       "  <tbody>\n",
       "    <tr>\n",
       "      <td>0</td>\n",
       "      <td>1.000000</td>\n",
       "      <td>681</td>\n",
       "      <td>Dopamine</td>\n",
       "      <td>NCCc1ccc(O)c(O)c1</td>\n",
       "    </tr>\n",
       "    <tr>\n",
       "      <td>1</td>\n",
       "      <td>0.921986</td>\n",
       "      <td>114772</td>\n",
       "      <td>5-Hydroxydopamine</td>\n",
       "      <td>NCCc1cc(O)c(O)c(O)c1</td>\n",
       "    </tr>\n",
       "    <tr>\n",
       "      <td>2</td>\n",
       "      <td>0.853846</td>\n",
       "      <td>11492</td>\n",
       "      <td>m-Tyramine</td>\n",
       "      <td>NCCc1cccc(O)c1</td>\n",
       "    </tr>\n",
       "    <tr>\n",
       "      <td>3</td>\n",
       "      <td>0.778443</td>\n",
       "      <td>4624</td>\n",
       "      <td>6-Hydroxydopamine</td>\n",
       "      <td>NCCc1cc(O)c(O)cc1O</td>\n",
       "    </tr>\n",
       "    <tr>\n",
       "      <td>4</td>\n",
       "      <td>0.773973</td>\n",
       "      <td>119219</td>\n",
       "      <td>3,4-Dihydroxyphenylacetaldehyde</td>\n",
       "      <td>O=CCc1ccc(O)c(O)c1</td>\n",
       "    </tr>\n",
       "    <tr>\n",
       "      <td>5</td>\n",
       "      <td>0.773810</td>\n",
       "      <td>1669</td>\n",
       "      <td>3-Methoxytyramine</td>\n",
       "      <td>COc1cc(CCN)ccc1O</td>\n",
       "    </tr>\n",
       "    <tr>\n",
       "      <td>6</td>\n",
       "      <td>0.761538</td>\n",
       "      <td>5610</td>\n",
       "      <td>Tyramine</td>\n",
       "      <td>NCCc1ccc(O)cc1</td>\n",
       "    </tr>\n",
       "    <tr>\n",
       "      <td>7</td>\n",
       "      <td>0.751445</td>\n",
       "      <td>8421</td>\n",
       "      <td>3,4-Dimethoxyphenylethylamine</td>\n",
       "      <td>COc1ccc(CCN)cc1OC</td>\n",
       "    </tr>\n",
       "    <tr>\n",
       "      <td>8</td>\n",
       "      <td>0.734463</td>\n",
       "      <td>439260</td>\n",
       "      <td>Norepinephrine</td>\n",
       "      <td>NC[C@@H](O)c1ccc(O)c(O)c1</td>\n",
       "    </tr>\n",
       "    <tr>\n",
       "      <td>9</td>\n",
       "      <td>0.734463</td>\n",
       "      <td>951</td>\n",
       "      <td>Xi-Norepinephrine</td>\n",
       "      <td>NCC(O)c1ccc(O)c(O)c1</td>\n",
       "    </tr>\n",
       "    <tr>\n",
       "      <td>10</td>\n",
       "      <td>0.729927</td>\n",
       "      <td>9727</td>\n",
       "      <td>N-Methyltyramine</td>\n",
       "      <td>CNCCc1ccc(O)cc1</td>\n",
       "    </tr>\n",
       "    <tr>\n",
       "      <td>11</td>\n",
       "      <td>0.692308</td>\n",
       "      <td>9958</td>\n",
       "      <td>4-Methylcatechol</td>\n",
       "      <td>Cc1ccc(O)c(O)c1</td>\n",
       "    </tr>\n",
       "  </tbody>\n",
       "</table>\n",
       "</div>"
      ],
      "text/plain": [
       "         sim pubchem_cid                      refmet_name  \\\n",
       "0   1.000000         681                         Dopamine   \n",
       "1   0.921986      114772                5-Hydroxydopamine   \n",
       "2   0.853846       11492                       m-Tyramine   \n",
       "3   0.778443        4624                6-Hydroxydopamine   \n",
       "4   0.773973      119219  3,4-Dihydroxyphenylacetaldehyde   \n",
       "5   0.773810        1669                3-Methoxytyramine   \n",
       "6   0.761538        5610                         Tyramine   \n",
       "7   0.751445        8421    3,4-Dimethoxyphenylethylamine   \n",
       "8   0.734463      439260                   Norepinephrine   \n",
       "9   0.734463         951                Xi-Norepinephrine   \n",
       "10  0.729927        9727                 N-Methyltyramine   \n",
       "11  0.692308        9958                 4-Methylcatechol   \n",
       "\n",
       "                       smiles  \n",
       "0           NCCc1ccc(O)c(O)c1  \n",
       "1        NCCc1cc(O)c(O)c(O)c1  \n",
       "2              NCCc1cccc(O)c1  \n",
       "3          NCCc1cc(O)c(O)cc1O  \n",
       "4          O=CCc1ccc(O)c(O)c1  \n",
       "5            COc1cc(CCN)ccc1O  \n",
       "6              NCCc1ccc(O)cc1  \n",
       "7           COc1ccc(CCN)cc1OC  \n",
       "8   NC[C@@H](O)c1ccc(O)c(O)c1  \n",
       "9        NCC(O)c1ccc(O)c(O)c1  \n",
       "10            CNCCc1ccc(O)cc1  \n",
       "11            Cc1ccc(O)c(O)c1  "
      ]
     },
     "execution_count": 5,
     "metadata": {},
     "output_type": "execute_result"
    }
   ],
   "source": [
    "sql = \"\"\"\n",
    "SELECT\n",
    "\ttanimoto_sml(rdkit_fp(mol_from_smiles('NCCc1ccc(O)c(O)c1'::cstring)),m.fp) AS \"sim\",\n",
    "\tm.pubchem_cid,\n",
    "\ts.refmet_name,\n",
    "\tmol_to_smiles(m.mol) AS \"smiles\"\n",
    "FROM\n",
    "\tmols m\n",
    "JOIN\n",
    "\tmain s ON (s.pubchem_cid = m.pubchem_cid)\n",
    "WHERE\n",
    "\trdkit_fp(mol_from_smiles('NCCc1ccc(O)c(O)c1'::cstring))%m.fp\n",
    "ORDER BY\n",
    "\tsim DESC\"\"\"\n",
    "hits = pd.read_sql(sql, dbcon)\n",
    "hits = hits.iloc[:12,]\n",
    "hits"
   ]
  },
  {
   "cell_type": "markdown",
   "metadata": {},
   "source": [
    "## Depict hits with RDKit"
   ]
  },
  {
   "cell_type": "code",
   "execution_count": 6,
   "metadata": {
    "scrolled": true
   },
   "outputs": [
    {
     "data": {
      "image/png": "[encoded data removed]",
      "text/plain": [
       "<PIL.PngImagePlugin.PngImageFile image mode=RGB size=800x600 at 0x7F0EA4A1BCD0>"
      ]
     },
     "execution_count": 6,
     "metadata": {},
     "output_type": "execute_result"
    }
   ],
   "source": [
    "mols = [Chem.MolFromSmiles(smi) for smi in hits[\"smiles\"]]\n",
    "for i in range(len(mols)): \n",
    "    mols[i].SetProp(\"_Name\", hits[\"refmet_name\"][i])\n",
    "Draw.MolsToGridImage(mols, molsPerRow=4, subImgSize=(200,200), legends=[m.GetProp(\"_Name\") for m in mols])"
   ]
  },
  {
   "cell_type": "code",
   "execution_count": null,
   "metadata": {},
   "outputs": [],
   "source": []
  }
 ],
 "metadata": {
  "kernelspec": {
   "display_name": "Python 3",
   "language": "python",
   "name": "python3"
  },
  "language_info": {
   "codemirror_mode": {
    "name": "ipython",
    "version": 3
   },
   "file_extension": ".py",
   "mimetype": "text/x-python",
   "name": "python",
   "nbconvert_exporter": "python",
   "pygments_lexer": "ipython3",
   "version": "3.7.4"
  }
 },
 "nbformat": 4,
 "nbformat_minor": 2
}

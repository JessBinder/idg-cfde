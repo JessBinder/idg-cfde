{
 "cells": [
  {
   "cell_type": "markdown",
   "metadata": {
    "colab_type": "text",
    "id": "bGoESH5cRZQy"
   },
   "source": [
    "<img align=\"right\" src=\"https://druggablegenome.net/IDG_Images_Index/IDGLOGO.png\" width=\"400\">\n",
    "\n",
    "# TCRD Introduction\n",
    "\n",
    "* http://juniper.health.unm.edu/tcrd/\n",
    "* http://juniper.health.unm.edu/tcrd/api.html\n",
    "* https://pharos.nih.gov/idg/api"
   ]
  },
  {
   "cell_type": "markdown",
   "metadata": {
    "colab_type": "text",
    "id": "7brPTQzLgyw7"
   },
   "source": [
    "### Imports and installs"
   ]
  },
  {
   "cell_type": "code",
   "execution_count": 1,
   "metadata": {
    "colab": {
     "base_uri": "https://localhost:8080/",
     "height": 173
    },
    "colab_type": "code",
    "execution": {
     "iopub.execute_input": "2021-09-01T21:56:36.628752Z",
     "iopub.status.busy": "2021-09-01T21:56:36.626615Z",
     "iopub.status.idle": "2021-09-01T21:56:37.709618Z",
     "shell.execute_reply": "2021-09-01T21:56:37.709047Z"
    },
    "id": "A7bXRlm3RT0f",
    "outputId": "7212ddc4-667d-4d7e-8977-d85c5fbfe759"
   },
   "outputs": [],
   "source": [
    "import sys, json, urllib.request\n",
    "import pandas as pd\n",
    "import matplotlib.pyplot\n",
    "import mysql.connector as mysql"
   ]
  },
  {
   "cell_type": "markdown",
   "metadata": {
    "colab_type": "text",
    "id": "inGLo7mrCYmM"
   },
   "source": [
    "### DB Specs"
   ]
  },
  {
   "cell_type": "code",
   "execution_count": 2,
   "metadata": {
    "colab": {},
    "colab_type": "code",
    "execution": {
     "iopub.execute_input": "2021-09-01T21:56:37.716332Z",
     "iopub.status.busy": "2021-09-01T21:56:37.714589Z",
     "iopub.status.idle": "2021-09-01T21:56:37.718384Z",
     "shell.execute_reply": "2021-09-01T21:56:37.717649Z"
    },
    "id": "ruCg_kalCOCM"
   },
   "outputs": [],
   "source": [
    "DBHOST = \"tcrd.kmc.io\"\n",
    "DBNAME = \"tcrd6110\"\n",
    "DBUSR = \"tcrd\""
   ]
  },
  {
   "cell_type": "markdown",
   "metadata": {
    "colab_type": "text",
    "id": "RwQmgiFRCWKk"
   },
   "source": [
    "### Connect"
   ]
  },
  {
   "cell_type": "code",
   "execution_count": 3,
   "metadata": {
    "colab": {},
    "colab_type": "code",
    "execution": {
     "iopub.execute_input": "2021-09-01T21:56:37.726060Z",
     "iopub.status.busy": "2021-09-01T21:56:37.724355Z",
     "iopub.status.idle": "2021-09-01T21:56:38.663351Z",
     "shell.execute_reply": "2021-09-01T21:56:38.663975Z"
    },
    "id": "xGkzEvN_CSMr"
   },
   "outputs": [],
   "source": [
    "dbcon = mysql.connect(host=DBHOST, db=DBNAME, user=DBUSR)"
   ]
  },
  {
   "cell_type": "markdown",
   "metadata": {
    "colab_type": "text",
    "id": "gESQaeo_DaDQ"
   },
   "source": [
    "### Db Info"
   ]
  },
  {
   "cell_type": "code",
   "execution_count": 4,
   "metadata": {
    "colab": {
     "base_uri": "https://localhost:8080/",
     "height": 119
    },
    "colab_type": "code",
    "execution": {
     "iopub.execute_input": "2021-09-01T21:56:38.671160Z",
     "iopub.status.busy": "2021-09-01T21:56:38.668777Z",
     "iopub.status.idle": "2021-09-01T21:56:39.198080Z",
     "shell.execute_reply": "2021-09-01T21:56:39.198721Z"
    },
    "id": "4MSpkuGPDcvP",
    "outputId": "d470f125-3af8-4cd3-dacb-bcb8b5016307"
   },
   "outputs": [
    {
     "data": {
      "text/html": [
       "<div>\n",
       "<style scoped>\n",
       "    .dataframe tbody tr th:only-of-type {\n",
       "        vertical-align: middle;\n",
       "    }\n",
       "\n",
       "    .dataframe tbody tr th {\n",
       "        vertical-align: top;\n",
       "    }\n",
       "\n",
       "    .dataframe thead th {\n",
       "        text-align: right;\n",
       "    }\n",
       "</style>\n",
       "<table border=\"1\" class=\"dataframe\">\n",
       "  <thead>\n",
       "    <tr style=\"text-align: right;\">\n",
       "      <th></th>\n",
       "      <th>dbname</th>\n",
       "      <th>schema_ver</th>\n",
       "      <th>data_ver</th>\n",
       "      <th>owner</th>\n",
       "      <th>is_copy</th>\n",
       "      <th>dump_file</th>\n",
       "    </tr>\n",
       "  </thead>\n",
       "  <tbody>\n",
       "    <tr>\n",
       "      <th>0</th>\n",
       "      <td>tcrd</td>\n",
       "      <td>6.6.2</td>\n",
       "      <td>6.11.0</td>\n",
       "      <td>smathias</td>\n",
       "      <td>0</td>\n",
       "      <td>None</td>\n",
       "    </tr>\n",
       "  </tbody>\n",
       "</table>\n",
       "</div>"
      ],
      "text/plain": [
       "  dbname schema_ver data_ver     owner  is_copy dump_file\n",
       "0   tcrd      6.6.2   6.11.0  smathias        0      None"
      ]
     },
     "execution_count": 4,
     "metadata": {},
     "output_type": "execute_result"
    }
   ],
   "source": [
    "pd.read_sql(\"SELECT * FROM dbinfo\", dbcon)"
   ]
  },
  {
   "cell_type": "markdown",
   "metadata": {
    "colab_type": "text",
    "id": "3R7lnqFLD-Rz"
   },
   "source": [
    "### Select target"
   ]
  },
  {
   "cell_type": "code",
   "execution_count": 5,
   "metadata": {
    "execution": {
     "iopub.execute_input": "2021-09-01T21:56:39.207457Z",
     "iopub.status.busy": "2021-09-01T21:56:39.205030Z",
     "iopub.status.idle": "2021-09-01T21:56:39.212850Z",
     "shell.execute_reply": "2021-09-01T21:56:39.209233Z"
    }
   },
   "outputs": [
    {
     "name": "stderr",
     "output_type": "stream",
     "text": [
      "UsageError: Cell magic `%%` not found.\n"
     ]
    }
   ],
   "source": [
    "%% appyter hide_code\n",
    "\n",
    "{% set uniprotId, geneSymbol = '', '' %}\n",
    "{% if target_field.raw_value == 'UniprotId' %}\n",
    "{% set uniprotId = target_field.value[0] %}\n",
    "{% else %}\n",
    "{% set geneSymbol = target_field.value[0] %}\n",
    "{% endif %}\n",
    "\n",
    "{% if uniprotId != '' %}\n",
    "\n",
    "sql = \"\"\"SELECT * FROM target\n",
    "LEFT OUTER JOIN t2tc ON t2tc.target_id = target.id\n",
    "LEFT OUTER JOIN protein ON protein.id = t2tc.protein_id\n",
    "WHERE p.uniprot = '{{uniprotId}}'\"\"\"\n",
    "\n",
    "{% else %}\n",
    "\n",
    "sql = \"\"\"SELECT * FROM target\n",
    "LEFT OUTER JOIN t2tc ON t2tc.target_id = target.id\n",
    "LEFT OUTER JOIN protein ON protein.id = t2tc.protein_id\n",
    "WHERE p.sym = '{{geneSymbol}}'\"\"\"\n",
    "\n",
    "{% endif %}\n",
    "\n",
    "df = pd.read_sql(sql, dbcon)\n",
    "df"
   ]
  }
 ],
 "metadata": {
  "appyter": {
   "nbconstruct": {
    "filename": "TCRD_Intro_appyter.ipynb",
    "files": {},
    "version": "0.16.6"
   },
   "nbexecute": {
    "completed": "2021-09-01T15:56:39.518442+00:00",
    "files": {},
    "started": "2021-09-01T15:56:34.782294+00:00",
    "version": "0.16.6"
   }
  },
  "colab": {
   "name": "TCRD_Intro.ipynb",
   "provenance": [],
   "version": "0.3.2"
  },
  "kernelspec": {
   "display_name": "Python 3",
   "language": "python",
   "name": "python3"
  },
  "language_info": {
   "codemirror_mode": {
    "name": "ipython",
    "version": 3
   },
   "file_extension": ".py",
   "mimetype": "text/x-python",
   "name": "python",
   "nbconvert_exporter": "python",
   "pygments_lexer": "ipython3",
   "version": "3.7.4"
  }
 },
 "nbformat": 4,
 "nbformat_minor": 1
}

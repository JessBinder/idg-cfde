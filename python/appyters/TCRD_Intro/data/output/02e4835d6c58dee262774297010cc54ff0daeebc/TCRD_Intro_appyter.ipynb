{
 "cells": [
  {
   "cell_type": "markdown",
   "metadata": {
    "colab_type": "text",
    "id": "bGoESH5cRZQy"
   },
   "source": [
    "# TCRD Intro (Appyter)\n",
    "\n",
    "* http://juniper.health.unm.edu/tcrd/\n",
    "* http://juniper.health.unm.edu/tcrd/api.html\n",
    "* https://pharos.nih.gov/idg/api"
   ]
  },
  {
   "cell_type": "code",
   "execution_count": 1,
   "metadata": {
    "colab": {
     "base_uri": "https://localhost:8080/",
     "height": 173
    },
    "colab_type": "code",
    "execution": {
     "iopub.execute_input": "2021-09-01T22:10:18.654804Z",
     "iopub.status.busy": "2021-09-01T22:10:18.652282Z",
     "iopub.status.idle": "2021-09-01T22:10:19.222327Z",
     "shell.execute_reply": "2021-09-01T22:10:19.221657Z"
    },
    "id": "A7bXRlm3RT0f",
    "outputId": "7212ddc4-667d-4d7e-8977-d85c5fbfe759"
   },
   "outputs": [],
   "source": [
    "import sys, json, urllib.request\n",
    "import pandas as pd\n",
    "import matplotlib.pyplot\n",
    "import mysql.connector as mysql"
   ]
  },
  {
   "cell_type": "code",
   "execution_count": 2,
   "metadata": {
    "colab": {},
    "colab_type": "code",
    "execution": {
     "iopub.execute_input": "2021-09-01T22:10:19.229640Z",
     "iopub.status.busy": "2021-09-01T22:10:19.227839Z",
     "iopub.status.idle": "2021-09-01T22:10:19.231472Z",
     "shell.execute_reply": "2021-09-01T22:10:19.232048Z"
    },
    "id": "ruCg_kalCOCM"
   },
   "outputs": [],
   "source": [
    "DBHOST = \"tcrd.kmc.io\"\n",
    "DBNAME = \"tcrd6110\"\n",
    "DBUSR = \"tcrd\""
   ]
  },
  {
   "cell_type": "code",
   "execution_count": 3,
   "metadata": {
    "colab": {},
    "colab_type": "code",
    "execution": {
     "iopub.execute_input": "2021-09-01T22:10:19.241837Z",
     "iopub.status.busy": "2021-09-01T22:10:19.239544Z",
     "iopub.status.idle": "2021-09-01T22:10:20.231340Z",
     "shell.execute_reply": "2021-09-01T22:10:20.231918Z"
    },
    "id": "xGkzEvN_CSMr"
   },
   "outputs": [],
   "source": [
    "dbcon = mysql.connect(host=DBHOST, db=DBNAME, user=DBUSR)"
   ]
  },
  {
   "cell_type": "markdown",
   "metadata": {
    "colab_type": "text",
    "id": "gESQaeo_DaDQ"
   },
   "source": [
    "### Db Info"
   ]
  },
  {
   "cell_type": "code",
   "execution_count": 4,
   "metadata": {
    "colab": {
     "base_uri": "https://localhost:8080/",
     "height": 119
    },
    "colab_type": "code",
    "execution": {
     "iopub.execute_input": "2021-09-01T22:10:20.238156Z",
     "iopub.status.busy": "2021-09-01T22:10:20.236338Z",
     "iopub.status.idle": "2021-09-01T22:10:20.674003Z",
     "shell.execute_reply": "2021-09-01T22:10:20.674474Z"
    },
    "id": "4MSpkuGPDcvP",
    "outputId": "d470f125-3af8-4cd3-dacb-bcb8b5016307"
   },
   "outputs": [
    {
     "data": {
      "text/html": [
       "<div>\n",
       "<style scoped>\n",
       "    .dataframe tbody tr th:only-of-type {\n",
       "        vertical-align: middle;\n",
       "    }\n",
       "\n",
       "    .dataframe tbody tr th {\n",
       "        vertical-align: top;\n",
       "    }\n",
       "\n",
       "    .dataframe thead th {\n",
       "        text-align: right;\n",
       "    }\n",
       "</style>\n",
       "<table border=\"1\" class=\"dataframe\">\n",
       "  <thead>\n",
       "    <tr style=\"text-align: right;\">\n",
       "      <th></th>\n",
       "      <th>dbname</th>\n",
       "      <th>schema_ver</th>\n",
       "      <th>data_ver</th>\n",
       "      <th>owner</th>\n",
       "      <th>is_copy</th>\n",
       "      <th>dump_file</th>\n",
       "    </tr>\n",
       "  </thead>\n",
       "  <tbody>\n",
       "    <tr>\n",
       "      <th>0</th>\n",
       "      <td>tcrd</td>\n",
       "      <td>6.6.2</td>\n",
       "      <td>6.11.0</td>\n",
       "      <td>smathias</td>\n",
       "      <td>0</td>\n",
       "      <td>None</td>\n",
       "    </tr>\n",
       "  </tbody>\n",
       "</table>\n",
       "</div>"
      ],
      "text/plain": [
       "  dbname schema_ver data_ver     owner  is_copy dump_file\n",
       "0   tcrd      6.6.2   6.11.0  smathias        0      None"
      ]
     },
     "execution_count": 4,
     "metadata": {},
     "output_type": "execute_result"
    }
   ],
   "source": [
    "pd.read_sql(\"SELECT * FROM dbinfo\", dbcon)"
   ]
  },
  {
   "cell_type": "markdown",
   "metadata": {
    "colab_type": "text",
    "id": "3R7lnqFLD-Rz"
   },
   "source": [
    "### Select target"
   ]
  },
  {
   "cell_type": "code",
   "execution_count": 5,
   "metadata": {
    "execution": {
     "iopub.execute_input": "2021-09-01T22:10:20.681975Z",
     "iopub.status.busy": "2021-09-01T22:10:20.679786Z",
     "iopub.status.idle": "2021-09-01T22:10:20.879687Z",
     "shell.execute_reply": "2021-09-01T22:10:20.880144Z"
    }
   },
   "outputs": [
    {
     "data": {
      "text/html": [
       "<div>\n",
       "<style scoped>\n",
       "    .dataframe tbody tr th:only-of-type {\n",
       "        vertical-align: middle;\n",
       "    }\n",
       "\n",
       "    .dataframe tbody tr th {\n",
       "        vertical-align: top;\n",
       "    }\n",
       "\n",
       "    .dataframe thead th {\n",
       "        text-align: right;\n",
       "    }\n",
       "</style>\n",
       "<table border=\"1\" class=\"dataframe\">\n",
       "  <thead>\n",
       "    <tr style=\"text-align: right;\">\n",
       "      <th></th>\n",
       "      <th>id</th>\n",
       "      <th>name</th>\n",
       "      <th>ttype</th>\n",
       "      <th>description</th>\n",
       "      <th>comment</th>\n",
       "      <th>tdl</th>\n",
       "      <th>idg</th>\n",
       "      <th>fam</th>\n",
       "      <th>famext</th>\n",
       "      <th>target_id</th>\n",
       "      <th>...</th>\n",
       "      <th>uniprot</th>\n",
       "      <th>up_version</th>\n",
       "      <th>geneid</th>\n",
       "      <th>sym</th>\n",
       "      <th>family</th>\n",
       "      <th>chr</th>\n",
       "      <th>seq</th>\n",
       "      <th>dtoid</th>\n",
       "      <th>stringid</th>\n",
       "      <th>dtoclass</th>\n",
       "    </tr>\n",
       "  </thead>\n",
       "  <tbody>\n",
       "    <tr>\n",
       "      <th>0</th>\n",
       "      <td>336</td>\n",
       "      <td>Cyclin-dependent kinase 1</td>\n",
       "      <td>Single Protein</td>\n",
       "      <td>None</td>\n",
       "      <td>None</td>\n",
       "      <td>Tchem</td>\n",
       "      <td>0</td>\n",
       "      <td>Kinase</td>\n",
       "      <td>Kinase</td>\n",
       "      <td>336</td>\n",
       "      <td>...</td>\n",
       "      <td>P06493</td>\n",
       "      <td>3</td>\n",
       "      <td>983</td>\n",
       "      <td>CDK1</td>\n",
       "      <td>Belongs to the protein kinase superfamily. CMG...</td>\n",
       "      <td>None</td>\n",
       "      <td>MEDYTKIEKIGEGTYGVVYKGRHKTTGQVVAMKKIRLESEEEGVPS...</td>\n",
       "      <td>DTO_03100066</td>\n",
       "      <td>ENSP00000378699</td>\n",
       "      <td>CDK1 subfamily</td>\n",
       "    </tr>\n",
       "  </tbody>\n",
       "</table>\n",
       "<p>1 rows × 25 columns</p>\n",
       "</div>"
      ],
      "text/plain": [
       "    id                       name           ttype description comment    tdl  \\\n",
       "0  336  Cyclin-dependent kinase 1  Single Protein        None    None  Tchem   \n",
       "\n",
       "   idg     fam  famext  target_id  ...  uniprot up_version  geneid   sym  \\\n",
       "0    0  Kinase  Kinase        336  ...   P06493          3     983  CDK1   \n",
       "\n",
       "                                              family   chr  \\\n",
       "0  Belongs to the protein kinase superfamily. CMG...  None   \n",
       "\n",
       "                                                 seq         dtoid  \\\n",
       "0  MEDYTKIEKIGEGTYGVVYKGRHKTTGQVVAMKKIRLESEEEGVPS...  DTO_03100066   \n",
       "\n",
       "          stringid        dtoclass  \n",
       "0  ENSP00000378699  CDK1 subfamily  \n",
       "\n",
       "[1 rows x 25 columns]"
      ]
     },
     "execution_count": 5,
     "metadata": {},
     "output_type": "execute_result"
    }
   ],
   "source": [
    "sql = \"\"\"SELECT * FROM target\n",
    "LEFT OUTER JOIN t2tc ON t2tc.target_id = target.id\n",
    "LEFT OUTER JOIN protein p ON p.id = t2tc.protein_id\n",
    "WHERE p.sym = 'CDK1'\"\"\"\n",
    "df = pd.read_sql(sql, dbcon)\n",
    "df"
   ]
  }
 ],
 "metadata": {
  "appyter": {
   "nbconstruct": {
    "filename": "TCRD_Intro_appyter.ipynb",
    "files": {},
    "version": "0.16.6"
   },
   "nbexecute": {
    "completed": "2021-09-01T16:10:21.192167+00:00",
    "files": {},
    "started": "2021-09-01T16:10:17.282458+00:00",
    "version": "0.16.6"
   }
  },
  "colab": {
   "name": "TCRD_Intro.ipynb",
   "provenance": [],
   "version": "0.3.2"
  },
  "kernelspec": {
   "display_name": "Python 3",
   "language": "python",
   "name": "python3"
  },
  "language_info": {
   "codemirror_mode": {
    "name": "ipython",
    "version": 3
   },
   "file_extension": ".py",
   "mimetype": "text/x-python",
   "name": "python",
   "nbconvert_exporter": "python",
   "pygments_lexer": "ipython3",
   "version": "3.7.4"
  }
 },
 "nbformat": 4,
 "nbformat_minor": 1
}

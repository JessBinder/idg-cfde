{
 "cells": [
  {
   "cell_type": "markdown",
   "metadata": {
    "colab_type": "text",
    "id": "bGoESH5cRZQy"
   },
   "source": [
    "<img align=\"right\" src=\"https://druggablegenome.net/IDG_Images_Index/IDGLOGO.png\" width=\"400\">\n",
    "\n",
    "# TCRD Introduction\n",
    "\n",
    "* http://juniper.health.unm.edu/tcrd/\n",
    "* http://juniper.health.unm.edu/tcrd/api.html\n",
    "* https://pharos.nih.gov/idg/api"
   ]
  },
  {
   "cell_type": "code",
   "execution_count": 1,
   "metadata": {
    "colab": {},
    "colab_type": "code",
    "execution": {
     "iopub.execute_input": "2021-09-01T22:05:37.860416Z",
     "iopub.status.busy": "2021-09-01T22:05:37.858009Z",
     "iopub.status.idle": "2021-09-01T22:05:37.862459Z",
     "shell.execute_reply": "2021-09-01T22:05:37.861443Z"
    },
    "id": "ruCg_kalCOCM"
   },
   "outputs": [],
   "source": [
    "DBHOST = \"tcrd.kmc.io\"\n",
    "DBNAME = \"tcrd6110\"\n",
    "DBUSR = \"tcrd\""
   ]
  },
  {
   "cell_type": "code",
   "execution_count": 2,
   "metadata": {
    "colab": {},
    "colab_type": "code",
    "execution": {
     "iopub.execute_input": "2021-09-01T22:05:37.882428Z",
     "iopub.status.busy": "2021-09-01T22:05:37.880390Z",
     "iopub.status.idle": "2021-09-01T22:05:37.991031Z",
     "shell.execute_reply": "2021-09-01T22:05:37.991915Z"
    },
    "id": "xGkzEvN_CSMr"
   },
   "outputs": [
    {
     "ename": "NameError",
     "evalue": "name 'mysql' is not defined",
     "output_type": "error",
     "traceback": [
      "\u001b[0;31m---------------------------------------------------------------------------\u001b[0m",
      "\u001b[0;31mNameError\u001b[0m                                 Traceback (most recent call last)",
      "\u001b[0;32m<ipython-input-2-83dfcdea31c4>\u001b[0m in \u001b[0;36m<module>\u001b[0;34m\u001b[0m\n\u001b[0;32m----> 1\u001b[0;31m \u001b[0mdbcon\u001b[0m \u001b[0;34m=\u001b[0m \u001b[0mmysql\u001b[0m\u001b[0;34m.\u001b[0m\u001b[0mconnect\u001b[0m\u001b[0;34m(\u001b[0m\u001b[0mhost\u001b[0m\u001b[0;34m=\u001b[0m\u001b[0mDBHOST\u001b[0m\u001b[0;34m,\u001b[0m \u001b[0mdb\u001b[0m\u001b[0;34m=\u001b[0m\u001b[0mDBNAME\u001b[0m\u001b[0;34m,\u001b[0m \u001b[0muser\u001b[0m\u001b[0;34m=\u001b[0m\u001b[0mDBUSR\u001b[0m\u001b[0;34m)\u001b[0m\u001b[0;34m\u001b[0m\u001b[0;34m\u001b[0m\u001b[0m\n\u001b[0m",
      "\u001b[0;31mNameError\u001b[0m: name 'mysql' is not defined"
     ]
    }
   ],
   "source": [
    "dbcon = mysql.connect(host=DBHOST, db=DBNAME, user=DBUSR)"
   ]
  },
  {
   "cell_type": "markdown",
   "metadata": {
    "colab_type": "text",
    "id": "gESQaeo_DaDQ"
   },
   "source": [
    "### Db Info"
   ]
  },
  {
   "cell_type": "code",
   "execution_count": null,
   "metadata": {
    "colab": {
     "base_uri": "https://localhost:8080/",
     "height": 119
    },
    "colab_type": "code",
    "id": "4MSpkuGPDcvP",
    "outputId": "d470f125-3af8-4cd3-dacb-bcb8b5016307"
   },
   "outputs": [],
   "source": [
    "pd.read_sql(\"SELECT * FROM dbinfo\", dbcon)"
   ]
  },
  {
   "cell_type": "markdown",
   "metadata": {
    "colab_type": "text",
    "id": "3R7lnqFLD-Rz"
   },
   "source": [
    "### Select target"
   ]
  },
  {
   "cell_type": "code",
   "execution_count": null,
   "metadata": {},
   "outputs": [],
   "source": [
    "sql = \"\"\"SELECT * FROM target\n",
    "LEFT OUTER JOIN t2tc ON t2tc.target_id = target.id\n",
    "LEFT OUTER JOIN protein p ON p.id = t2tc.protein_id\n",
    "WHERE p.sym = 'CDK1'\"\"\"\n",
    "df = pd.read_sql(sql, dbcon)\n",
    "df"
   ]
  }
 ],
 "metadata": {
  "appyter": {
   "nbconstruct": {
    "filename": "TCRD_Intro_appyter.ipynb",
    "files": {},
    "version": "0.16.6"
   },
   "nbexecute": {
    "completed": "2021-09-01T16:05:38.298945+00:00",
    "files": {},
    "started": "2021-09-01T16:05:36.781539+00:00",
    "version": "0.16.6"
   }
  },
  "colab": {
   "name": "TCRD_Intro.ipynb",
   "provenance": [],
   "version": "0.3.2"
  },
  "kernelspec": {
   "display_name": "Python 3",
   "language": "python",
   "name": "python3"
  },
  "language_info": {
   "codemirror_mode": {
    "name": "ipython",
    "version": 3
   },
   "file_extension": ".py",
   "mimetype": "text/x-python",
   "name": "python",
   "nbconvert_exporter": "python",
   "pygments_lexer": "ipython3",
   "version": "3.7.4"
  }
 },
 "nbformat": 4,
 "nbformat_minor": 1
}

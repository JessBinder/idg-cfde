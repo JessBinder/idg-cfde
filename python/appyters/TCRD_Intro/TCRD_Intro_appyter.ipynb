{
 "cells": [
  {
   "cell_type": "code",
   "execution_count": 10,
   "metadata": {},
   "outputs": [],
   "source": [
    "#%%appyter init\n",
    "from appyter import magic\n",
    "magic.init(lambda _=globals: _())"
   ]
  },
  {
   "cell_type": "markdown",
   "metadata": {
    "colab_type": "text",
    "id": "bGoESH5cRZQy"
   },
   "source": [
    "# TCRD Intro (Appyter)\n",
    "\n",
    "* http://juniper.health.unm.edu/tcrd/\n",
    "* http://juniper.health.unm.edu/tcrd/api.html\n",
    "* https://pharos.nih.gov/idg/api"
   ]
  },
  {
   "cell_type": "code",
   "execution_count": 11,
   "metadata": {
    "colab": {
     "base_uri": "https://localhost:8080/",
     "height": 173
    },
    "colab_type": "code",
    "id": "A7bXRlm3RT0f",
    "outputId": "7212ddc4-667d-4d7e-8977-d85c5fbfe759"
   },
   "outputs": [],
   "source": [
    "import sys, json, urllib.request\n",
    "import pandas as pd\n",
    "import matplotlib.pyplot\n",
    "import mysql.connector as mysql"
   ]
  },
  {
   "cell_type": "code",
   "execution_count": 12,
   "metadata": {
    "colab": {},
    "colab_type": "code",
    "id": "ruCg_kalCOCM"
   },
   "outputs": [],
   "source": [
    "DBHOST = \"tcrd.kmc.io\"\n",
    "DBNAME = \"tcrd6110\"\n",
    "DBUSR = \"tcrd\""
   ]
  },
  {
   "cell_type": "code",
   "execution_count": 13,
   "metadata": {
    "colab": {},
    "colab_type": "code",
    "id": "xGkzEvN_CSMr"
   },
   "outputs": [],
   "source": [
    "dbcon = mysql.connect(host=DBHOST, db=DBNAME, user=DBUSR)"
   ]
  },
  {
   "cell_type": "markdown",
   "metadata": {
    "colab_type": "text",
    "id": "gESQaeo_DaDQ"
   },
   "source": [
    "### Db Info"
   ]
  },
  {
   "cell_type": "code",
   "execution_count": 14,
   "metadata": {
    "colab": {
     "base_uri": "https://localhost:8080/",
     "height": 119
    },
    "colab_type": "code",
    "id": "4MSpkuGPDcvP",
    "outputId": "d470f125-3af8-4cd3-dacb-bcb8b5016307"
   },
   "outputs": [
    {
     "data": {
      "text/html": [
       "<div>\n",
       "<style scoped>\n",
       "    .dataframe tbody tr th:only-of-type {\n",
       "        vertical-align: middle;\n",
       "    }\n",
       "\n",
       "    .dataframe tbody tr th {\n",
       "        vertical-align: top;\n",
       "    }\n",
       "\n",
       "    .dataframe thead th {\n",
       "        text-align: right;\n",
       "    }\n",
       "</style>\n",
       "<table border=\"1\" class=\"dataframe\">\n",
       "  <thead>\n",
       "    <tr style=\"text-align: right;\">\n",
       "      <th></th>\n",
       "      <th>0</th>\n",
       "    </tr>\n",
       "  </thead>\n",
       "  <tbody>\n",
       "    <tr>\n",
       "      <td>dbname</td>\n",
       "      <td>tcrd</td>\n",
       "    </tr>\n",
       "    <tr>\n",
       "      <td>schema_ver</td>\n",
       "      <td>6.6.2</td>\n",
       "    </tr>\n",
       "    <tr>\n",
       "      <td>data_ver</td>\n",
       "      <td>6.11.0</td>\n",
       "    </tr>\n",
       "    <tr>\n",
       "      <td>owner</td>\n",
       "      <td>smathias</td>\n",
       "    </tr>\n",
       "    <tr>\n",
       "      <td>is_copy</td>\n",
       "      <td>0</td>\n",
       "    </tr>\n",
       "    <tr>\n",
       "      <td>dump_file</td>\n",
       "      <td>None</td>\n",
       "    </tr>\n",
       "  </tbody>\n",
       "</table>\n",
       "</div>"
      ],
      "text/plain": [
       "                   0\n",
       "dbname          tcrd\n",
       "schema_ver     6.6.2\n",
       "data_ver      6.11.0\n",
       "owner       smathias\n",
       "is_copy            0\n",
       "dump_file       None"
      ]
     },
     "execution_count": 14,
     "metadata": {},
     "output_type": "execute_result"
    }
   ],
   "source": [
    "pd.read_sql(\"SELECT * FROM dbinfo\", dbcon).transpose()"
   ]
  },
  {
   "cell_type": "markdown",
   "metadata": {
    "colab_type": "text",
    "id": "3R7lnqFLD-Rz"
   },
   "source": [
    "### Select target"
   ]
  },
  {
   "cell_type": "code",
   "execution_count": 8,
   "metadata": {},
   "outputs": [],
   "source": [
    "%%appyter code_exec\n",
    "\n",
    "{% do SectionField(name='target_selection',\n",
    "        title='Target Selection',\n",
    "        subtitle='Choose between gene symbol or UniprotId.')%}\n",
    "\n",
    "\n",
    "{% set target_field = TabField(\n",
    "    name='target_field',\n",
    "    label='Target Selection',\n",
    "    default='Gene symbol',\n",
    "    description='Select input method',\n",
    "    choices={\n",
    "        'Gene symbol': [\n",
    "            StringField(\n",
    "                name='input_symbol',\n",
    "                label='Gene symbol',\n",
    "                default='CDK1',\n",
    "                description='Input your gene symbol of interest.',\n",
    "                section = 'target_selection'\n",
    "            ),\n",
    "\n",
    "        ],\n",
    "        \n",
    "        'UniprotId': [\n",
    "                StringField(\n",
    "                name='input_uniprot',\n",
    "                label='UniprotId',\n",
    "                default='P06493',\n",
    "                description='Input your UniprotId of interest.',\n",
    "                section = 'target_selection'\n",
    "            ),\n",
    "        ],\n",
    "    },\n",
    "    section = 'target_selection'\n",
    ") %}"
   ]
  },
  {
   "cell_type": "code",
   "execution_count": 1,
   "metadata": {},
   "outputs": [
    {
     "name": "stderr",
     "output_type": "stream",
     "text": [
      "UsageError: Cell magic `%%appyter` not found.\n"
     ]
    }
   ],
   "source": [
    "%%appyter code_exec\n",
    "\n",
    "{% set uniprotId, geneSymbol = '', '' %}\n",
    "{% if target_field.raw_value == 'UniprotId' %}\n",
    "{% set uniprotId = target_field.value[0] %}\n",
    "{% else %}\n",
    "{% set geneSymbol = target_field.value[0] %}\n",
    "{% endif %}\n",
    "\n",
    "{% if uniprotId != '' %}\n",
    "\n",
    "sql = \"\"\"SELECT * FROM target\n",
    "LEFT OUTER JOIN t2tc ON t2tc.target_id = target.id\n",
    "LEFT OUTER JOIN protein p ON p.id = t2tc.protein_id\n",
    "WHERE p.uniprot = {{uniprotId}}\"\"\"\n",
    "\n",
    "{% else %}\n",
    "\n",
    "sql = \"\"\"SELECT * FROM target\n",
    "LEFT OUTER JOIN t2tc ON t2tc.target_id = target.id\n",
    "LEFT OUTER JOIN protein p ON p.id = t2tc.protein_id\n",
    "WHERE p.sym = {{geneSymbol}}\"\"\"\n",
    "\n",
    "{% endif %}\n",
    "\n",
    "df = pd.read_sql(sql, dbcon)\n",
    "df.transpose()"
   ]
  },
  {
   "cell_type": "code",
   "execution_count": null,
   "metadata": {},
   "outputs": [],
   "source": []
  },
  {
   "cell_type": "code",
   "execution_count": null,
   "metadata": {},
   "outputs": [],
   "source": []
  }
 ],
 "metadata": {
  "colab": {
   "name": "TCRD_Intro.ipynb",
   "provenance": [],
   "version": "0.3.2"
  },
  "kernelspec": {
   "display_name": "Python 3",
   "language": "python",
   "name": "python3"
  },
  "language_info": {
   "codemirror_mode": {
    "name": "ipython",
    "version": 3
   },
   "file_extension": ".py",
   "mimetype": "text/x-python",
   "name": "python",
   "nbconvert_exporter": "python",
   "pygments_lexer": "ipython3",
   "version": "3.7.4"
  }
 },
 "nbformat": 4,
 "nbformat_minor": 1
}
